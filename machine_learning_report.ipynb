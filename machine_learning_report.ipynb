{
  "nbformat": 4,
  "nbformat_minor": 0,
  "metadata": {
    "colab": {
      "provenance": [],
      "authorship_tag": "ABX9TyMKcSksaU+8d//u5a0tJwB6",
      "include_colab_link": true
    },
    "kernelspec": {
      "name": "python3",
      "display_name": "Python 3"
    },
    "language_info": {
      "name": "python"
    }
  },
  "cells": [
    {
      "cell_type": "markdown",
      "metadata": {
        "id": "view-in-github",
        "colab_type": "text"
      },
      "source": [
        "<a href=\"https://colab.research.google.com/github/atheeqmazarik/machinelearningfinal/blob/main/machine_learning_report.ipynb\" target=\"_parent\"><img src=\"https://colab.research.google.com/assets/colab-badge.svg\" alt=\"Open In Colab\"/></a>"
      ]
    },
    {
      "cell_type": "code",
      "source": [
        "#Import libraries\n",
        "\n",
        "import pandas as pd\n",
        "from sklearn.model_selection import train_test_split\n",
        "from sklearn.feature_extraction.text import CountVectorizer\n",
        "from sklearn.linear_model import LogisticRegression\n",
        "from sklearn.svm import SVC\n",
        "from sklearn.ensemble import RandomForestClassifier\n",
        "from sklearn.metrics import precision_score, recall_score, f1_score, accuracy_score\n",
        "\n",
        "import time"
      ],
      "metadata": {
        "id": "rAncL25Bb2yK"
      },
      "execution_count": null,
      "outputs": []
    },
    {
      "cell_type": "code",
      "source": [
        "#Read our dataset\n",
        "df = pd.read_csv('Phishing_Email.csv')\n",
        "\n",
        "#Print first 5 rows\n",
        "print(df.head())"
      ],
      "metadata": {
        "colab": {
          "base_uri": "https://localhost:8080/"
        },
        "id": "uTuUrWdincVa",
        "outputId": "ca57a3cd-4561-4e5e-8933-9e4dc0cb9ddb"
      },
      "execution_count": null,
      "outputs": [
        {
          "output_type": "stream",
          "name": "stdout",
          "text": [
            "   Unnamed: 0                                         Email Text  \\\n",
            "0           0  re : 6 . 1100 , disc : uniformitarianism , re ...   \n",
            "1           1  the other side of * galicismos * * galicismo *...   \n",
            "2           2  re : equistar deal tickets are you still avail...   \n",
            "3           3  unbelievable new homes for the usa ! it ' s a ...   \n",
            "4           4  software at incredibly low prices ( 86 % lower...   \n",
            "\n",
            "       Email Type  \n",
            "0      Safe Email  \n",
            "1      Safe Email  \n",
            "2      Safe Email  \n",
            "3  Phishing Email  \n",
            "4  Phishing Email  \n"
          ]
        }
      ]
    },
    {
      "cell_type": "code",
      "source": [
        "#Number of observations (Emails)\n",
        "print(\"Number of observations:\", len(df))\n",
        "\n",
        "#Number of variables (Columns)\n",
        "print(\"Number of variables:\", len(df.columns))\n"
      ],
      "metadata": {
        "colab": {
          "base_uri": "https://localhost:8080/"
        },
        "id": "eNbW1LXEb-aL",
        "outputId": "b184d071-0d9a-4bd1-8a47-320ee4a89aee"
      },
      "execution_count": null,
      "outputs": [
        {
          "output_type": "stream",
          "name": "stdout",
          "text": [
            "Number of observations: 18650\n",
            "Number of variables: 3\n"
          ]
        }
      ]
    },
    {
      "cell_type": "code",
      "source": [
        "#Email Type is mapped to binary values (Safe Email = 0, Phishing Email = 1)\n",
        "df['Email Type'] = df['Email Type'].map({'Safe Email': 0, 'Phishing Email': 1})\n",
        "\n",
        "#Detects any 'NaN' values in the dataset and drops those rows\n",
        "df['Email Text'] = df['Email Text'].fillna('')\n",
        "df = df.dropna(subset=['Email Type'])\n",
        "\n",
        "#Distribution of emails (safe [0] or phishing [1])\n",
        "print(\"Class Distribution:\")\n",
        "print(df['Email Type'].value_counts())\n"
      ],
      "metadata": {
        "colab": {
          "base_uri": "https://localhost:8080/"
        },
        "id": "f6KDExPQl9b9",
        "outputId": "b5460cca-cf13-4e0c-8875-306b655b17f5"
      },
      "execution_count": null,
      "outputs": [
        {
          "output_type": "stream",
          "name": "stdout",
          "text": [
            "Class Distribution:\n",
            "Email Type\n",
            "0    11322\n",
            "1     7328\n",
            "Name: count, dtype: int64\n"
          ]
        }
      ]
    },
    {
      "cell_type": "code",
      "source": [
        "X = df['Email Text']\n",
        "y = df['Email Type']\n",
        "\n",
        "#Split dataset into training and testing sets (70% train, 30% test)\n",
        "X_train, X_test, y_train, y_test = train_test_split(X, y, test_size=0.3, random_state=42, stratify=y)"
      ],
      "metadata": {
        "id": "YurellJ-o3Zh"
      },
      "execution_count": null,
      "outputs": []
    },
    {
      "cell_type": "code",
      "source": [
        "#Convert text data (Email Text) into numerical data for the models to process\n",
        "\n",
        "vectorizer = CountVectorizer(stop_words='english', max_features=1000)\n",
        "X_train_vectorizer = vectorizer.fit_transform(X_train.values)\n",
        "X_test_vectorizer = vectorizer.transform(X_test)"
      ],
      "metadata": {
        "id": "8nW-cTbApElz"
      },
      "execution_count": null,
      "outputs": []
    },
    {
      "cell_type": "code",
      "source": [
        "#Logistic Regression Model\n",
        "\n",
        "startTime = time.time()\n",
        "\n",
        "model = LogisticRegression(random_state=42, max_iter=1000)\n",
        "\n",
        "model.fit(X_train_vectorizer, y_train) #Training model\n",
        "\n",
        "y_pred = model.predict(X_test_vectorizer) #Predictions\n",
        "\n",
        "endTime = time.time()\n",
        "executionTime = endTime - startTime\n",
        "\n",
        "#Evaluation Metrics\n",
        "print(\"Logistic Regression Results:\")\n",
        "print(f\"Accuracy: {accuracy_score(y_test, y_pred):.3f}\")\n",
        "print(f\"Precision: {precision_score(y_test, y_pred):.3f}\")\n",
        "print(f\"Recall: {recall_score(y_test, y_pred):.3f}\")\n",
        "print(f\"F1 Score: {f1_score(y_test, y_pred):.3f}\")\n",
        "\n",
        "#Execution time\n",
        "print(f\"Execution time: {(executionTime):.3f}s\")"
      ],
      "metadata": {
        "colab": {
          "base_uri": "https://localhost:8080/"
        },
        "id": "oonCwo2Xr5by",
        "outputId": "7103059e-b6d8-4e76-8755-acae2dca31d4"
      },
      "execution_count": null,
      "outputs": [
        {
          "output_type": "stream",
          "name": "stdout",
          "text": [
            "Logistic Regression Results:\n",
            "Accuracy: 0.949\n",
            "Precision: 0.916\n",
            "Recall: 0.957\n",
            "F1 Score: 0.936\n",
            "Execution time: 0.194s\n"
          ]
        }
      ]
    },
    {
      "cell_type": "code",
      "source": [
        "#Support Vector Machine (SVM) Model\n",
        "\n",
        "startTime = time.time()\n",
        "\n",
        "svmModel = SVC(kernel='linear', random_state=42)\n",
        "svmModel.fit(X_train_vectorizer, y_train)\n",
        "\n",
        "#Predictions\n",
        "y_pred = svmModel.predict(X_test_vectorizer)\n",
        "\n",
        "endTime = time.time()\n",
        "executionTime = endTime - startTime\n",
        "\n",
        "#Evaluation Metrics\n",
        "print(\"SVM Model Results:\")\n",
        "print(f\"Accuracy: {accuracy_score(y_test, y_pred):.3f}\")\n",
        "print(f\"Precision: {precision_score(y_test, y_pred):.3f}\")\n",
        "print(f\"Recall: {recall_score(y_test, y_pred):.3f}\")\n",
        "print(f\"F1 Score: {f1_score(y_test, y_pred):.3f}\")\n",
        "\n",
        "#Execution time\n",
        "print(f\"Execution time: {(executionTime):.3f}s\")"
      ],
      "metadata": {
        "colab": {
          "base_uri": "https://localhost:8080/"
        },
        "id": "kHUfy9Pxr5yG",
        "outputId": "c6d73291-bb41-4af4-bca8-2be5b7f7324c"
      },
      "execution_count": null,
      "outputs": [
        {
          "output_type": "stream",
          "name": "stdout",
          "text": [
            "SVM Model Results:\n",
            "Accuracy: 0.941\n",
            "Precision: 0.903\n",
            "Recall: 0.954\n",
            "F1 Score: 0.927\n",
            "Execution time: 14.225s\n"
          ]
        }
      ]
    },
    {
      "cell_type": "code",
      "source": [
        "#Random Forest Model\n",
        "\n",
        "startTime = time.time()\n",
        "\n",
        "randomForest = RandomForestClassifier(n_estimators=100, random_state=42)\n",
        "randomForest.fit(X_train_vectorizer, y_train)\n",
        "\n",
        "#Predictions\n",
        "y_pred = randomForest.predict(X_test_vectorizer)\n",
        "\n",
        "endTime = time.time()\n",
        "executionTime = endTime - startTime\n",
        "\n",
        "#Evaluation Metrics\n",
        "print(\"Random Forest Results:\")\n",
        "print(f\"Accuracy: {accuracy_score(y_test, y_pred):.3f}\")\n",
        "print(f\"Precision: {precision_score(y_test, y_pred):.3f}\")\n",
        "print(f\"Recall: {recall_score(y_test, y_pred):.3f}\")\n",
        "print(f\"F1 Score: {f1_score(y_test, y_pred):.3f}\")\n",
        "\n",
        "#Execution time\n",
        "print(f\"Execution time: {(executionTime):.3f}s\")"
      ],
      "metadata": {
        "colab": {
          "base_uri": "https://localhost:8080/"
        },
        "id": "k4WPqIQOvxX7",
        "outputId": "c6fa8ffa-a077-435a-e127-4f2b889daf59"
      },
      "execution_count": null,
      "outputs": [
        {
          "output_type": "stream",
          "name": "stdout",
          "text": [
            "Random Forest Results:\n",
            "Accuracy: 0.957\n",
            "Precision: 0.925\n",
            "Recall: 0.970\n",
            "F1 Score: 0.947\n",
            "Execution time: 14.089s\n"
          ]
        }
      ]
    }
  ]
}